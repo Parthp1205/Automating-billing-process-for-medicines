{
  "cells": [
    {
      "cell_type": "code",
      "execution_count": 1,
      "id": "52715c0a",
      "metadata": {
        "id": "52715c0a"
      },
      "outputs": [],
      "source": [
        "! pip install -U spacy -q"
      ]
    },
    {
      "cell_type": "code",
      "execution_count": 2,
      "id": "6a4315f0",
      "metadata": {
        "id": "6a4315f0",
        "outputId": "2ec22d53-8f94-41ba-edd9-4efb69686ee4",
        "colab": {
          "base_uri": "https://localhost:8080/"
        }
      },
      "outputs": [
        {
          "output_type": "stream",
          "name": "stdout",
          "text": [
            "\u001b[1m\n",
            "============================== Info about spaCy ==============================\u001b[0m\n",
            "\n",
            "spaCy version    3.7.4                         \n",
            "Location         /usr/local/lib/python3.10/dist-packages/spacy\n",
            "Platform         Linux-6.1.58+-x86_64-with-glibc2.35\n",
            "Python version   3.10.12                       \n",
            "Pipelines        en_core_web_sm (3.7.1)        \n",
            "\n"
          ]
        }
      ],
      "source": [
        "!python -m spacy info"
      ]
    },
    {
      "cell_type": "code",
      "execution_count": 3,
      "id": "212343a9",
      "metadata": {
        "id": "212343a9"
      },
      "outputs": [],
      "source": [
        "import os\n",
        "os.environ['KMP_DUPLICATE_LIB_OK']='True'"
      ]
    },
    {
      "cell_type": "code",
      "execution_count": 5,
      "id": "742c6d6c",
      "metadata": {
        "id": "742c6d6c"
      },
      "outputs": [],
      "source": [
        "import spacy\n",
        "from spacy.tokens import DocBin\n",
        "from tqdm import tqdm\n",
        "\n",
        "nlp = spacy.blank(\"en\") # load a new spacy model\n",
        "db = DocBin() # create a DocBin object"
      ]
    },
    {
      "cell_type": "code",
      "execution_count": 7,
      "id": "c509b4a6",
      "metadata": {
        "id": "c509b4a6"
      },
      "outputs": [],
      "source": [
        "import json\n",
        "f = open('train_data.json')\n",
        "TRAIN_DATA = json.load(f)"
      ]
    },
    {
      "cell_type": "code",
      "execution_count": 8,
      "id": "5dd01c7f",
      "metadata": {
        "id": "5dd01c7f",
        "outputId": "aa5b626a-defd-462c-c59a-24eaa36aa25a",
        "colab": {
          "base_uri": "https://localhost:8080/"
        }
      },
      "outputs": [
        {
          "output_type": "stream",
          "name": "stderr",
          "text": [
            " 11%|█▏        | 92/811 [00:00<00:01, 438.25it/s]"
          ]
        },
        {
          "output_type": "stream",
          "name": "stdout",
          "text": [
            "Skipping entity\n",
            "Skipping entity\n",
            "Skipping entity\n",
            "Skipping entity\n"
          ]
        },
        {
          "output_type": "stream",
          "name": "stderr",
          "text": [
            "100%|██████████| 811/811 [00:01<00:00, 514.08it/s]\n"
          ]
        }
      ],
      "source": [
        "for text, annot in tqdm(TRAIN_DATA['annotations']):\n",
        "    doc = nlp.make_doc(text)\n",
        "    ents = []\n",
        "    for start, end, label in annot[\"entities\"]:\n",
        "        span = doc.char_span(start, end, label=label, alignment_mode=\"contract\")\n",
        "        if span is None:\n",
        "            print(\"Skipping entity\")\n",
        "        else:\n",
        "            ents.append(span)\n",
        "    doc.ents = ents\n",
        "    db.add(doc)\n",
        "\n",
        "db.to_disk(\"./training_data.spacy\") # save the docbin object"
      ]
    },
    {
      "cell_type": "code",
      "execution_count": 9,
      "id": "b4ceb5ba",
      "metadata": {
        "id": "b4ceb5ba",
        "outputId": "00523afb-0b61-4c25-8228-3a762c4d503f",
        "colab": {
          "base_uri": "https://localhost:8080/"
        }
      },
      "outputs": [
        {
          "output_type": "stream",
          "name": "stdout",
          "text": [
            "\u001b[38;5;3m⚠ To generate a more effective transformer-based config (GPU-only),\n",
            "install the spacy-transformers package and re-run this command. The config\n",
            "generated now does not use transformers.\u001b[0m\n",
            "\u001b[38;5;4mℹ Generated config template specific for your use case\u001b[0m\n",
            "- Language: en\n",
            "- Pipeline: ner\n",
            "- Optimize for: accuracy\n",
            "- Hardware: CPU\n",
            "- Transformer: None\n",
            "\u001b[38;5;2m✔ Auto-filled config with all values\u001b[0m\n",
            "\u001b[38;5;2m✔ Saved config\u001b[0m\n",
            "config.cfg\n",
            "You can now add your data and train your pipeline:\n",
            "python -m spacy train config.cfg --paths.train ./train.spacy --paths.dev ./dev.spacy\n"
          ]
        }
      ],
      "source": [
        "! python -m spacy init config config.cfg --lang en --pipeline ner --optimize accuracy"
      ]
    },
    {
      "cell_type": "code",
      "execution_count": 10,
      "id": "8ee705ee",
      "metadata": {
        "id": "8ee705ee",
        "outputId": "45728ca6-5bcb-4833-da83-3e74ddbe4ff1",
        "colab": {
          "base_uri": "https://localhost:8080/"
        }
      },
      "outputs": [
        {
          "output_type": "stream",
          "name": "stdout",
          "text": [
            "\u001b[38;5;4mℹ Saving to output directory: .\u001b[0m\n",
            "\u001b[38;5;4mℹ Using CPU\u001b[0m\n",
            "\u001b[1m\n",
            "=========================== Initializing pipeline ===========================\u001b[0m\n",
            "Traceback (most recent call last):\n",
            "  File \"/usr/local/lib/python3.10/dist-packages/spacy/language.py\", line 1327, in initialize\n",
            "    init_vocab(\n",
            "  File \"/usr/local/lib/python3.10/dist-packages/spacy/training/initialize.py\", line 142, in init_vocab\n",
            "    load_vectors_into_model(nlp, vectors)\n",
            "  File \"/usr/local/lib/python3.10/dist-packages/spacy/training/initialize.py\", line 164, in load_vectors_into_model\n",
            "    vectors_nlp = load_model(name, vocab=nlp.vocab, exclude=exclude)\n",
            "  File \"/usr/local/lib/python3.10/dist-packages/spacy/util.py\", line 472, in load_model\n",
            "    raise IOError(Errors.E050.format(name=name))\n",
            "OSError: [E050] Can't find model 'en_core_web_lg'. It doesn't seem to be a Python package or a valid path to a data directory.\n",
            "\n",
            "During handling of the above exception, another exception occurred:\n",
            "\n",
            "Traceback (most recent call last):\n",
            "  File \"/usr/lib/python3.10/runpy.py\", line 196, in _run_module_as_main\n",
            "    return _run_code(code, main_globals, None,\n",
            "  File \"/usr/lib/python3.10/runpy.py\", line 86, in _run_code\n",
            "    exec(code, run_globals)\n",
            "  File \"/usr/local/lib/python3.10/dist-packages/spacy/__main__.py\", line 4, in <module>\n",
            "    setup_cli()\n",
            "  File \"/usr/local/lib/python3.10/dist-packages/spacy/cli/_util.py\", line 87, in setup_cli\n",
            "    command(prog_name=COMMAND)\n",
            "  File \"/usr/local/lib/python3.10/dist-packages/click/core.py\", line 1157, in __call__\n",
            "    return self.main(*args, **kwargs)\n",
            "  File \"/usr/local/lib/python3.10/dist-packages/typer/core.py\", line 778, in main\n",
            "    return _main(\n",
            "  File \"/usr/local/lib/python3.10/dist-packages/typer/core.py\", line 216, in _main\n",
            "    rv = self.invoke(ctx)\n",
            "  File \"/usr/local/lib/python3.10/dist-packages/click/core.py\", line 1688, in invoke\n",
            "    return _process_result(sub_ctx.command.invoke(sub_ctx))\n",
            "  File \"/usr/local/lib/python3.10/dist-packages/click/core.py\", line 1434, in invoke\n",
            "    return ctx.invoke(self.callback, **ctx.params)\n",
            "  File \"/usr/local/lib/python3.10/dist-packages/click/core.py\", line 783, in invoke\n",
            "    return __callback(*args, **kwargs)\n",
            "  File \"/usr/local/lib/python3.10/dist-packages/typer/main.py\", line 683, in wrapper\n",
            "    return callback(**use_params)  # type: ignore\n",
            "  File \"/usr/local/lib/python3.10/dist-packages/spacy/cli/train.py\", line 54, in train_cli\n",
            "    train(config_path, output_path, use_gpu=use_gpu, overrides=overrides)\n",
            "  File \"/usr/local/lib/python3.10/dist-packages/spacy/cli/train.py\", line 81, in train\n",
            "    nlp = init_nlp(config, use_gpu=use_gpu)\n",
            "  File \"/usr/local/lib/python3.10/dist-packages/spacy/training/initialize.py\", line 95, in init_nlp\n",
            "    nlp.initialize(lambda: train_corpus(nlp), sgd=optimizer)\n",
            "  File \"/usr/local/lib/python3.10/dist-packages/spacy/language.py\", line 1331, in initialize\n",
            "    raise IOError(Errors.E884.format(vectors=I[\"vectors\"]))\n",
            "OSError: [E884] The pipeline could not be initialized because the vectors could not be found at 'en_core_web_lg'. If your pipeline was already initialized/trained before, call 'resume_training' instead of 'initialize', or initialize only the components that are new.\n"
          ]
        }
      ],
      "source": [
        "! python -m spacy train config.cfg --output ./ --paths.train ./training_data.spacy --paths.dev ./training_data.spacy"
      ]
    },
    {
      "cell_type": "code",
      "execution_count": null,
      "id": "3159ec06",
      "metadata": {
        "id": "3159ec06"
      },
      "outputs": [],
      "source": [
        "nlp_ner = spacy.load(\"./model-best\")"
      ]
    },
    {
      "cell_type": "code",
      "execution_count": null,
      "id": "be130e6e",
      "metadata": {
        "id": "be130e6e"
      },
      "outputs": [],
      "source": []
    },
    {
      "cell_type": "code",
      "execution_count": null,
      "id": "375e891e",
      "metadata": {
        "id": "375e891e",
        "outputId": "cfb7c9d0-f5ea-4bcd-b195-66a0982280fc"
      },
      "outputs": [
        {
          "data": {
            "text/html": [
              "<span class=\"tex2jax_ignore\"><div class=\"entities\" style=\"line-height: 2.5; direction: ltr\">Dose:As directed bhe Physician FROMLIGHT EXCEEDING25 capsule shell. Approved colours used in hard gelatin Excipients (ln the form of extended release pellets) Extended Release Gapsules Diltiazem Hydrochlonde I.P. Each hard gelatin capsule contains Swallow whole capsuie do not crush or chew FROMLIGHTANDMOISTURE. EXCEEDING25C,PROTECTED STORE ATA TEMPERATURE NOT Dose:As directed bthe Physician capsuleshell. Approvedcolours xcpients DILZEM CD-90 Ditiazem Hydrochloride TECTED nhard gelatin JR 90mg u q.s. eh.,Baddi Vill. Bhud &amp; Makhat PHARMACEUTIAS LTD Manufactured by Mfg. Lic. No. : MNB/05/183 DRUG RELEASETEST3. COMPLIES WITHUS.P. TORRENT Keep out of reachotchildren Dist. Solan (H.P.)INDIA. Vill. Bhud &amp; Makhnu Majra, PHARMACEUTICALSLTD Manufactured by Teh. 8 TORRENT the SCHEDULEH .Baddi-173205 preso torrent -forrent PharmA PHARMO DRUG ESCRIPTION 8079093-802 8079093-802 Majra TION tail withou DILZEM CD-90 \n",
              "<mark class=\"entity\" style=\"background: #ddd; padding: 0.45em 0.6em; margin: 0 0.25em; line-height: 1; border-radius: 0.35em;\">\n",
              "    B.No.CJY8JOO9\n",
              "    <span style=\"font-size: 0.8em; font-weight: bold; line-height: 1; border-radius: 0.35em; vertical-align: middle; margin-left: 0.5rem\">BATCH</span>\n",
              "</mark>\n",
              " M.R.P.PER BLISTER PACK MFG.JUL.2022OF10CAPS.于119·20 EXP.JUN.2024 INCLUSIVEOFALLTAXES</div></span>"
            ],
            "text/plain": [
              "<IPython.core.display.HTML object>"
            ]
          },
          "metadata": {},
          "output_type": "display_data"
        }
      ],
      "source": [
        "text = 'Dose:As directed bhe Physician FROMLIGHT EXCEEDING25 capsule shell. Approved colours used in hard gelatin Excipients (ln the form of extended release pellets) Extended Release Gapsules Diltiazem Hydrochlonde I.P. Each hard gelatin capsule contains Swallow whole capsuie do not crush or chew FROMLIGHTANDMOISTURE. EXCEEDING25C,PROTECTED STORE ATA TEMPERATURE NOT Dose:As directed bthe Physician capsuleshell. Approvedcolours xcpients DILZEM CD-90 Ditiazem Hydrochloride TECTED nhard gelatin JR 90mg u q.s. eh.,Baddi Vill. Bhud & Makhat PHARMACEUTIAS LTD Manufactured by Mfg. Lic. No. : MNB/05/183 DRUG RELEASETEST3. COMPLIES WITHUS.P. TORRENT Keep out of reachotchildren Dist. Solan (H.P.)INDIA. Vill. Bhud & Makhnu Majra, PHARMACEUTICALSLTD Manufactured by Teh. 8 TORRENT the SCHEDULEH .Baddi-173205 preso torrent -forrent PharmA PHARMO DRUG ESCRIPTION 8079093-802 8079093-802 Majra TION tail withou DILZEM CD-90 B.No.CJY8JOO9 M.R.P.PER BLISTER PACK MFG.JUL.2022OF10CAPS.于119·20 EXP.JUN.2024 INCLUSIVEOFALLTAXES'\n",
        "doc = nlp_ner(text)\n",
        "spacy.displacy.render(doc, style=\"ent\", jupyter=True) # display in Jupyter"
      ]
    },
    {
      "cell_type": "code",
      "execution_count": null,
      "id": "20c87d55",
      "metadata": {
        "id": "20c87d55"
      },
      "outputs": [],
      "source": []
    },
    {
      "cell_type": "code",
      "execution_count": null,
      "id": "0f963dee",
      "metadata": {
        "id": "0f963dee",
        "outputId": "fc473d58-3f63-43fd-c6b4-d4c346a13c5d"
      },
      "outputs": [
        {
          "name": "stderr",
          "output_type": "stream",
          "text": [
            "/Users/dhruvpatel/opt/anaconda3/lib/python3.9/site-packages/spacy/util.py:887: UserWarning: [W095] Model 'en_pipeline' (0.0.0) was trained with spaCy v3.4 and may not be 100% compatible with the current version (3.5.1). If you see errors or degraded performance, download a newer compatible model or retrain your custom model with the current spaCy version. For more details and available updates, run: python -m spacy validate\n",
            "  warnings.warn(warn_msg)\n"
          ]
        }
      ],
      "source": [
        "nlp_ner_1 = spacy.load(\"./onlyBatch_ner_model-best\")"
      ]
    },
    {
      "cell_type": "code",
      "execution_count": null,
      "id": "5f7e5195",
      "metadata": {
        "id": "5f7e5195",
        "outputId": "2d781117-1992-4349-ec45-cf891e4a2956"
      },
      "outputs": [
        {
          "data": {
            "text/html": [
              "<span class=\"tex2jax_ignore\"><div class=\"entities\" style=\"line-height: 2.5; direction: ltr\">  EXPIRYDATE: \n",
              "<mark class=\"entity\" style=\"background: #ddd; padding: 0.45em 0.6em; margin: 0 0.25em; line-height: 1; border-radius: 0.35em;\">\n",
              "    B.NoPR220707\n",
              "    <span style=\"font-size: 0.8em; font-weight: bold; line-height: 1; border-radius: 0.35em; vertical-align: middle; margin-left: 0.5rem\">BATCH</span>\n",
              "</mark>\n",
              " sideeffects. JUN.2024 epoutofreachofchildre Com light &amp;moisture. Store below 30C, Proteated ofaRegis Dosage:As directed bythe esoldbyretall with Red&amp;Titanium dioxideIP Coiours:Ferric Oxide USPR Excipients Rrifloxacin INCL.OFALLTAXES Cnilmcoatedtabletcentan LEH1PRESCRIPTIC ERCIN PERCIN Mig.xic.No.:MNB/09/780 Prulifloxacin Talets 600 天579.20 TABS emailatdsrm@lupin.com KallnaSantacruz（) Freeno.:1800-209-2505 Adverse Drug reaction diak reportproductcomplaint latedsideeffects. od sugarandmental h sepoutofreacho</div></span>"
            ],
            "text/plain": [
              "<IPython.core.display.HTML object>"
            ]
          },
          "metadata": {},
          "output_type": "display_data"
        }
      ],
      "source": [
        "Text = \"  EXPIRYDATE: B.NoPR220707 sideeffects. JUN.2024 epoutofreachofchildre Com light &moisture. Store below 30C, Proteated ofaRegis Dosage:As directed bythe esoldbyretall with Red&Titanium dioxideIP Coiours:Ferric Oxide USPR Excipients Rrifloxacin INCL.OFALLTAXES Cnilmcoatedtabletcentan LEH1PRESCRIPTIC ERCIN PERCIN Mig.xic.No.:MNB/09/780 Prulifloxacin Talets 600 天579.20 TABS emailatdsrm@lupin.com KallnaSantacruz（) Freeno.:1800-209-2505 Adverse Drug reaction diak reportproductcomplaint latedsideeffects. od sugarandmental h sepoutofreacho\"\n",
        "doc_1 = nlp_ner_1(Text)\n",
        "spacy.displacy.render(doc_1, style=\"ent\", jupyter=True) # display in Jupyter"
      ]
    },
    {
      "cell_type": "code",
      "execution_count": null,
      "id": "995cc42c",
      "metadata": {
        "id": "995cc42c",
        "outputId": "1090ff08-afb6-4ac4-9000-f20d4a2d6e24"
      },
      "outputs": [
        {
          "name": "stdout",
          "output_type": "stream",
          "text": [
            "B.NoPR220707\n"
          ]
        }
      ],
      "source": [
        "for ent in doc_1.ents:\n",
        "    if ent.label_ == 'BATCH':\n",
        "        bno = ent.text\n",
        "        print(bno)"
      ]
    },
    {
      "cell_type": "code",
      "execution_count": null,
      "id": "476dafb9",
      "metadata": {
        "id": "476dafb9"
      },
      "outputs": [],
      "source": []
    },
    {
      "cell_type": "code",
      "execution_count": null,
      "id": "e28fc706",
      "metadata": {
        "id": "e28fc706"
      },
      "outputs": [],
      "source": [
        "\"Inverted_ner_model\"\n",
        "nlp_ner_2 = spacy.load(\"./Inverted_ner_model\")"
      ]
    },
    {
      "cell_type": "code",
      "execution_count": null,
      "id": "7d985513",
      "metadata": {
        "id": "7d985513",
        "outputId": "b3a41ee8-3df9-4c0d-86c9-f575d8274575"
      },
      "outputs": [
        {
          "data": {
            "text/html": [
              "<span class=\"tex2jax_ignore\"><div class=\"entities\" style=\"line-height: 2.5; direction: ltr\">Batch No. \n",
              "<mark class=\"entity\" style=\"background: #ddd; padding: 0.45em 0.6em; margin: 0 0.25em; line-height: 1; border-radius: 0.35em;\">\n",
              "    BRY1068\n",
              "    <span style=\"font-size: 0.8em; font-weight: bold; line-height: 1; border-radius: 0.35em; vertical-align: middle; margin-left: 0.5rem\">BATCH</span>\n",
              "</mark>\n",
              " Mfg.Date \n",
              "<mark class=\"entity\" style=\"background: #ddd; padding: 0.45em 0.6em; margin: 0 0.25em; line-height: 1; border-radius: 0.35em;\">\n",
              "    03/2022\n",
              "    <span style=\"font-size: 0.8em; font-weight: bold; line-height: 1; border-radius: 0.35em; vertical-align: middle; margin-left: 0.5rem\">MFD</span>\n",
              "</mark>\n",
              " ExpiryDate: \n",
              "<mark class=\"entity\" style=\"background: #ddd; padding: 0.45em 0.6em; margin: 0 0.25em; line-height: 1; border-radius: 0.35em;\">\n",
              "    02/2025\n",
              "    <span style=\"font-size: 0.8em; font-weight: bold; line-height: 1; border-radius: 0.35em; vertical-align: middle; margin-left: 0.5rem\">EXP</span>\n",
              "</mark>\n",
              " Maximum \n",
              "<mark class=\"entity\" style=\"background: #ddd; padding: 0.45em 0.6em; margin: 0 0.25em; line-height: 1; border-radius: 0.35em;\">\n",
              "    49.35\n",
              "    <span style=\"font-size: 0.8em; font-weight: bold; line-height: 1; border-radius: 0.35em; vertical-align: middle; margin-left: 0.5rem\">MRP</span>\n",
              "</mark>\n",
              " Retail PriceR: Per4Tablets (InclusiveofAll Taxes) Mfg.Lic.No.:L/17/2007/MNB Zydus Marketed by:\n",
              "<mark class=\"entity\" style=\"background: #ddd; padding: 0.45em 0.6em; margin: 0 0.25em; line-height: 1; border-radius: 0.35em;\">\n",
              "    Zydus Liva\n",
              "    <span style=\"font-size: 0.8em; font-weight: bold; line-height: 1; border-radius: 0.35em; vertical-align: middle; margin-left: 0.5rem\">COMPANY</span>\n",
              "</mark>\n",
              "</div></span>"
            ],
            "text/plain": [
              "<IPython.core.display.HTML object>"
            ]
          },
          "metadata": {},
          "output_type": "display_data"
        }
      ],
      "source": [
        "doc_2 = nlp_ner_2('Batch No. BRY1068 Mfg.Date 03/2022 ExpiryDate: 02/2025 Maximum 49.35 Retail PriceR: Per4Tablets (InclusiveofAll Taxes) Mfg.Lic.No.:L/17/2007/MNB Zydus Marketed by:Zydus Liva')\n",
        "spacy.displacy.render(doc_2, style=\"ent\", jupyter=True) # display in Jupyter"
      ]
    },
    {
      "cell_type": "code",
      "execution_count": null,
      "id": "64d6b0fe",
      "metadata": {
        "id": "64d6b0fe"
      },
      "outputs": [],
      "source": [
        "doc_3 = nlp_ner_2('BRY1063')"
      ]
    },
    {
      "cell_type": "code",
      "execution_count": null,
      "id": "20beb432",
      "metadata": {
        "id": "20beb432"
      },
      "outputs": [],
      "source": [
        "#hysician moisture. 1083788 21083786 B.N0:N410394 MFD.AUG.21 FXP.U1-.24 M.R.P.RS.71.70 3 TabS. (InCL. OF ALL TAXES) AzIciP\n",
        "\n"
      ]
    },
    {
      "cell_type": "code",
      "execution_count": null,
      "id": "290bd0b0",
      "metadata": {
        "id": "290bd0b0"
      },
      "outputs": [],
      "source": []
    },
    {
      "cell_type": "code",
      "execution_count": null,
      "id": "72b4461a",
      "metadata": {
        "id": "72b4461a",
        "outputId": "2e3e33a9-60d3-4d35-8e3a-84009135d83b"
      },
      "outputs": [
        {
          "name": "stdout",
          "output_type": "stream",
          "text": [
            "BRY1068\n"
          ]
        }
      ],
      "source": [
        "for ent in doc_2.ents:\n",
        "    if ent.label_ == 'BATCH':\n",
        "        bno = ent.text\n",
        "        print(bno)"
      ]
    },
    {
      "cell_type": "code",
      "execution_count": null,
      "id": "c6e3cb22",
      "metadata": {
        "id": "c6e3cb22"
      },
      "outputs": [],
      "source": [
        "import re"
      ]
    },
    {
      "cell_type": "code",
      "execution_count": null,
      "id": "67e27eee",
      "metadata": {
        "id": "67e27eee"
      },
      "outputs": [],
      "source": [
        "txt = \"B.NO14TTL293\""
      ]
    },
    {
      "cell_type": "code",
      "execution_count": null,
      "id": "e3669f5b",
      "metadata": {
        "id": "e3669f5b",
        "outputId": "f6d9cdb4-aa53-4051-cc9d-438a4e948a39"
      },
      "outputs": [
        {
          "name": "stdout",
          "output_type": "stream",
          "text": [
            "<re.Match object; span=(0, 4), match='B.NO'>\n"
          ]
        }
      ],
      "source": [
        "\n",
        "print(x)"
      ]
    },
    {
      "cell_type": "code",
      "execution_count": null,
      "id": "1c4411ac",
      "metadata": {
        "id": "1c4411ac",
        "outputId": "1faaf5ca-90c9-4859-deef-40e7c65ba58a"
      },
      "outputs": [
        {
          "name": "stdout",
          "output_type": "stream",
          "text": [
            "14TTL293\n"
          ]
        }
      ],
      "source": [
        "x = re.search(\"B.NO\", txt)\n",
        "a=x.span()[1]\n",
        "print(txt[a:])"
      ]
    },
    {
      "cell_type": "code",
      "execution_count": null,
      "id": "6b698a49",
      "metadata": {
        "id": "6b698a49"
      },
      "outputs": [],
      "source": []
    },
    {
      "cell_type": "code",
      "execution_count": null,
      "id": "fc601cdd",
      "metadata": {
        "id": "fc601cdd"
      },
      "outputs": [],
      "source": []
    },
    {
      "cell_type": "code",
      "execution_count": null,
      "id": "d3609da2",
      "metadata": {
        "id": "d3609da2"
      },
      "outputs": [],
      "source": []
    },
    {
      "cell_type": "code",
      "execution_count": null,
      "id": "ad6a4f03",
      "metadata": {
        "id": "ad6a4f03",
        "outputId": "c73924fa-d3ee-4f18-e2a7-d9380ab11c97"
      },
      "outputs": [
        {
          "name": "stdout",
          "output_type": "stream",
          "text": [
            "14TTL293\n"
          ]
        }
      ],
      "source": [
        "txt = \"B.NO14TTL293\"\n",
        "if re.search(\"B.NO\", txt):\n",
        "    a=x.span()[1]\n",
        "elif re.search(\"B.N0\", txt):\n",
        "    a=x.span()[1]\n",
        "elif re.search(\"B.N0\", txt):\n",
        "    a=x.span()[1]\n",
        "\n",
        "print(txt[a:])"
      ]
    },
    {
      "cell_type": "code",
      "execution_count": null,
      "id": "2d929e7c",
      "metadata": {
        "id": "2d929e7c",
        "outputId": "44bf6a28-b7b0-4ca0-d82e-5cf14a87597f"
      },
      "outputs": [
        {
          "name": "stdout",
          "output_type": "stream",
          "text": [
            "14ttl293\n"
          ]
        }
      ],
      "source": [
        "txt = \"B.NO14TTL293\"\n",
        "pattern = 'B.NO|BNO|batch no|batch. no|B.N0|BN0.| '\n",
        "result = re.sub(pattern.casefold(), '',txt.casefold()).replace('.','')\n",
        "\n",
        "print(result)"
      ]
    },
    {
      "cell_type": "code",
      "execution_count": null,
      "id": "37793a5d",
      "metadata": {
        "id": "37793a5d"
      },
      "outputs": [],
      "source": [
        "B.NO14TTL298"
      ]
    }
  ],
  "metadata": {
    "kernelspec": {
      "display_name": "Python 3 (ipykernel)",
      "language": "python",
      "name": "python3"
    },
    "language_info": {
      "codemirror_mode": {
        "name": "ipython",
        "version": 3
      },
      "file_extension": ".py",
      "mimetype": "text/x-python",
      "name": "python",
      "nbconvert_exporter": "python",
      "pygments_lexer": "ipython3",
      "version": "3.9.7"
    },
    "colab": {
      "provenance": []
    }
  },
  "nbformat": 4,
  "nbformat_minor": 5
}